{
  "nbformat": 4,
  "nbformat_minor": 0,
  "metadata": {
    "colab": {
      "provenance": [],
      "authorship_tag": "ABX9TyNXDux7bvQeosDRqqYVtc1d",
      "include_colab_link": true
    },
    "kernelspec": {
      "name": "python3",
      "display_name": "Python 3"
    },
    "language_info": {
      "name": "python"
    }
  },
  "cells": [
    {
      "cell_type": "markdown",
      "metadata": {
        "id": "view-in-github",
        "colab_type": "text"
      },
      "source": [
        "<a href=\"https://colab.research.google.com/github/Balakamatchi/Study-Room/blob/Colab-Python-Codes/Permutations_and_Combinations.ipynb\" target=\"_parent\"><img src=\"https://colab.research.google.com/assets/colab-badge.svg\" alt=\"Open In Colab\"/></a>"
      ]
    },
    {
      "cell_type": "markdown",
      "source": [],
      "metadata": {
        "id": "9t7auqNLsQH_"
      }
    },
    {
      "cell_type": "code",
      "source": [
        "from itertools import permutations\n",
        "count = 0\n",
        "d=[1,2,3]\n",
        "p=permutations(d,2)\n",
        "for i in list(p):\n",
        "  print(i)\n",
        "  count+=1\n",
        "print(\"Count:\", count)"
      ],
      "metadata": {
        "colab": {
          "base_uri": "https://localhost:8080/"
        },
        "id": "TyO04qZCtRvE",
        "outputId": "792ed4f7-5705-40a1-af75-d683f4db913d"
      },
      "execution_count": null,
      "outputs": [
        {
          "output_type": "stream",
          "name": "stdout",
          "text": [
            "(1, 2)\n",
            "(1, 3)\n",
            "(2, 1)\n",
            "(2, 3)\n",
            "(3, 1)\n",
            "(3, 2)\n",
            "Count: 6\n"
          ]
        }
      ]
    },
    {
      "cell_type": "code",
      "source": [
        "from itertools import combinations\n",
        "count = 0\n",
        "d=[1,2,3]\n",
        "c=combinations(d,2)\n",
        "for i in list(c):\n",
        "  print(i)\n",
        "  count+=1\n",
        "print(\"Count:\", count)"
      ],
      "metadata": {
        "colab": {
          "base_uri": "https://localhost:8080/"
        },
        "id": "xbUKuTvqtxbQ",
        "outputId": "16e162ee-78be-400f-ec8a-36815852b60c"
      },
      "execution_count": null,
      "outputs": [
        {
          "output_type": "stream",
          "name": "stdout",
          "text": [
            "(1, 2)\n",
            "(1, 3)\n",
            "(2, 3)\n",
            "Count: 3\n"
          ]
        }
      ]
    },
    {
      "cell_type": "code",
      "source": [
        "from itertools import combinations_with_replacement as cr\n",
        "count = 0\n",
        "d=[1,2,3]\n",
        "c=cr(d,2)\n",
        "for i in list(c):\n",
        "  print(i)\n",
        "  count+=1\n",
        "print(\"Count:\", count)"
      ],
      "metadata": {
        "colab": {
          "base_uri": "https://localhost:8080/"
        },
        "id": "tJxXFbW5t41c",
        "outputId": "82fe1b31-f982-4454-9410-af2a5782da29"
      },
      "execution_count": null,
      "outputs": [
        {
          "output_type": "stream",
          "name": "stdout",
          "text": [
            "(1, 1)\n",
            "(1, 2)\n",
            "(1, 3)\n",
            "(2, 2)\n",
            "(2, 3)\n",
            "(3, 3)\n",
            "Count: 6\n"
          ]
        }
      ]
    }
  ]
}